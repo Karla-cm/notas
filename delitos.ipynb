{
  "nbformat": 4,
  "nbformat_minor": 0,
  "metadata": {
    "colab": {
      "provenance": [],
      "include_colab_link": true
    },
    "kernelspec": {
      "name": "python3",
      "display_name": "Python 3"
    },
    "language_info": {
      "name": "python"
    }
  },
  "cells": [
    {
      "cell_type": "markdown",
      "metadata": {
        "id": "view-in-github",
        "colab_type": "text"
      },
      "source": [
        "<a href=\"https://colab.research.google.com/github/Karla-cm/notas/blob/main/delitos.ipynb\" target=\"_parent\"><img src=\"https://colab.research.google.com/assets/colab-badge.svg\" alt=\"Open In Colab\"/></a>"
      ]
    },
    {
      "cell_type": "markdown",
      "source": [
        "![image.png](data:image/png;base64,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)"
      ],
      "metadata": {
        "id": "RVdFkcKIxBvQ"
      }
    },
    {
      "cell_type": "markdown",
      "source": [
        "inferencia entre numeros de delitos que hay en la zona y si bien este arroja que si es por que es una zona peligrosa"
      ],
      "metadata": {
        "id": "3vLxeb4mxkcq"
      }
    },
    {
      "cell_type": "code",
      "execution_count": null,
      "metadata": {
        "id": "JblfOEjerS80"
      },
      "outputs": [],
      "source": [
        "import numpy as np\n",
        "import matplotlib.pyplot as plt"
      ]
    },
    {
      "cell_type": "code",
      "source": [
        "def logistic_function(x):\n",
        "    return 1 / (1 + np.exp(-x))"
      ],
      "metadata": {
        "id": "LlX1xerRrbAP"
      },
      "execution_count": 3,
      "outputs": []
    },
    {
      "cell_type": "code",
      "source": [
        "x_values = np.linspace(-10, 10, 1000)"
      ],
      "metadata": {
        "id": "aUBFCok_rdwX"
      },
      "execution_count": 2,
      "outputs": []
    },
    {
      "cell_type": "code",
      "source": [
        "logit_values = logistic_function(x_values)"
      ],
      "metadata": {
        "id": "2dFB8ELWrf_u"
      },
      "execution_count": 4,
      "outputs": []
    },
    {
      "cell_type": "code",
      "source": [
        "delitos_por_dia = [8, 9, 10, 11, 12, 13, 14, 15, 16, 17]\n",
        "peligroso_o_no = [0, 0, 0, 0, 0, 0, 1, 1, 1, 1]"
      ],
      "metadata": {
        "id": "Npq3aiDXripJ"
      },
      "execution_count": 5,
      "outputs": []
    },
    {
      "cell_type": "code",
      "source": [
        "learning_rate = 0.01\n",
        "num_epochs = 10000\n",
        "w = 0.10\n",
        "b = 0.10"
      ],
      "metadata": {
        "id": "7QBUOjhTrmKJ"
      },
      "execution_count": 6,
      "outputs": []
    },
    {
      "cell_type": "code",
      "source": [
        "# Entrenamiento del modelo\n",
        "for epoch in range(num_epochs):\n",
        "    dw = 0\n",
        "    db = 0\n",
        "    for i in range(len(delitos_por_dia)):\n",
        "        # Calculamos la predicción\n",
        "        z = w * delitos_por_dia[i] + b\n",
        "        predicciones = 1 / (1 + 2.71828**(-z))\n",
        "\n",
        "        # Calculamos el error\n",
        "        error = predicciones - peligroso_o_no[i]\n",
        "\n",
        "        # Actualizamos los gradientes\n",
        "        dw += delitos_por_dia[i] * error # Esto es equivalente a dw = dw + horas_de_estudio[i] * error\n",
        "        db += error # Esto es equivalente a db = db + error\n",
        "\n",
        "    dw /= len(delitos_por_dia) # Esto es equivalente a dw = dw / len(horas_de_estudio)\n",
        "    db /= len(delitos_por_dia) # Esto es equivalente a db = db / len(horas_de_estudio)\n",
        "\n",
        "    # Actualizamos los parámetros\n",
        "    w -= learning_rate * dw # Esto es equivalente a w = w - learning_rate * dw\n",
        "    b -= learning_rate * db # Esto es equivalente a b = b - learning_rate * db\n",
        "    # print(f\"Los nuevos valores son w: {w} y b: {b}\")"
      ],
      "metadata": {
        "id": "o-NDhq0JroT1"
      },
      "execution_count": 8,
      "outputs": []
    },
    {
      "cell_type": "code",
      "source": [
        "def peligro(delitos):\n",
        "    z = w * delitos + b\n",
        "    probabilidad_peligro = 1 / (1 + 2.71828**(-z))\n",
        "    if probabilidad_peligro >= 0.5:\n",
        "        return \"Peligroso\"\n",
        "    else:\n",
        "        return \"No Peligroso\""
      ],
      "metadata": {
        "id": "cYK6qSbgrrMg"
      },
      "execution_count": 9,
      "outputs": []
    },
    {
      "cell_type": "code",
      "source": [
        "delitos_nuevos = [0, 3, 6, 9, 14, 21, 23]\n",
        "for delitos in delitos_nuevos:\n",
        "    resultado = peligro(delitos)\n",
        "    print(f\"Con {delitos} se define el lugar como: {resultado}\")"
      ],
      "metadata": {
        "colab": {
          "base_uri": "https://localhost:8080/"
        },
        "id": "BcgBoFtvrtLi",
        "outputId": "58a94957-b434-4d5d-c1a4-4b722e30e011"
      },
      "execution_count": 10,
      "outputs": [
        {
          "output_type": "stream",
          "name": "stdout",
          "text": [
            "Con 0 se define el lugar como: No Peligroso\n",
            "Con 3 se define el lugar como: No Peligroso\n",
            "Con 6 se define el lugar como: No Peligroso\n",
            "Con 9 se define el lugar como: No Peligroso\n",
            "Con 14 se define el lugar como: Peligroso\n",
            "Con 21 se define el lugar como: Peligroso\n",
            "Con 23 se define el lugar como: Peligroso\n"
          ]
        }
      ]
    }
  ]
}